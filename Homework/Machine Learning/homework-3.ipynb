{
 "cells": [
  {
   "cell_type": "code",
   "execution_count": 1,
   "metadata": {
    "collapsed": true
   },
   "outputs": [],
   "source": [
    "# First check whether data format is correct\n",
    "\n",
    "key_list = ['author', 'title', 'year', 'Conference']\n",
    "for line in open('./dataset/FilteredDBLP.txt', 'r', encoding='utf-8'):\n",
    "    line = line.strip('\\n')\n",
    "    if len(line) <= 0:\n",
    "        continue\n",
    "    if line != '#########':\n",
    "        word_list = line.split('\\t')\n",
    "        if len(word_list) != 2:\n",
    "            print('Strange line: %s' % line)\n",
    "        else:\n",
    "            if word_list[0] not in key_list:\n",
    "                print('Strange key: %s in %s' % (word_list[0], line))"
   ]
  },
  {
   "cell_type": "code",
   "execution_count": 1,
   "metadata": {
    "collapsed": true
   },
   "outputs": [],
   "source": [
    "from dblp import DBLP, DBLPAuthorList\n",
    "dataset = DBLP('./dataset/FilteredDBLP.txt')\n",
    "author_list = DBLPAuthorList(dataset)"
   ]
  },
  {
   "cell_type": "code",
   "execution_count": null,
   "metadata": {
    "collapsed": true
   },
   "outputs": [],
   "source": [
    "# 找出某个会议的研究者\n",
    "# 以CVPR为例\n",
    "author_list.get_by_conference('CVPR')"
   ]
  },
  {
   "cell_type": "code",
   "execution_count": null,
   "metadata": {
    "collapsed": true
   },
   "outputs": [],
   "source": [
    "# 找出CVPR中已经不活跃的（也就是最后一次发论文的时间在2013年之前（包括2013年））\n",
    "\n",
    "author_list.get_before_year('CVPR', 2013)"
   ]
  },
  {
   "cell_type": "code",
   "execution_count": null,
   "metadata": {
    "collapsed": true
   },
   "outputs": [],
   "source": [
    "# 找出CVPR中仍在活跃的（也就是最后一次发论文的时间在2014年之后（包括2014年））\n",
    "\n",
    "author_list.get_after_year('CVPR', 2014)"
   ]
  },
  {
   "cell_type": "code",
   "execution_count": 5,
   "metadata": {
    "scrolled": true
   },
   "outputs": [
    {
     "data": {
      "image/png": "[encoded data removed]",
      "text/plain": [
       "<matplotlib.figure.Figure at 0x19253b519e8>"
      ]
     },
     "metadata": {},
     "output_type": "display_data"
    }
   ],
   "source": [
    "# CVPR按照最后一篇论文发表时间的研究者分布\n",
    "\n",
    "import matplotlib.pyplot as plt\n",
    "\n",
    "cvpr = author_list.get_by_conference('CVPR')\n",
    "author_count = []\n",
    "year = range(2007, 2018)\n",
    "for i in year:\n",
    "    author_count.append(len(cvpr[i]))\n",
    "plt.plot(year, author_count, label='Count')\n",
    "plt.show()"
   ]
  },
  {
   "cell_type": "code",
   "execution_count": 6,
   "metadata": {},
   "outputs": [
    {
     "name": "stdout",
     "output_type": "stream",
     "text": [
      "Active: 6698\n",
      "Inactive: 4758\n"
     ]
    }
   ],
   "source": [
    "# 按照定义，不活跃的研究者和活跃的研究者的占比\n",
    "\n",
    "inactive = 0\n",
    "for i in range(2007, 2014):\n",
    "    inactive += len(cvpr[i])\n",
    "active = 0\n",
    "for i in range(2014, 2018):\n",
    "    active += len(cvpr[i])\n",
    "print(\"Active: %s\" % active)\n",
    "print(\"Inactive: %s\" % inactive)"
   ]
  },
  {
   "cell_type": "code",
   "execution_count": null,
   "metadata": {
    "collapsed": true
   },
   "outputs": [],
   "source": [
    "# 用FPGrowth算法计算频繁项集\n",
    "\n",
    "from fp_growth import FPGrowth\n",
    "fp_growth = FPGrowth()\n",
    "fp_growth.fit(dataset.get_author_group_list(), min_support=3, min_size=3)\n",
    "fp_growth.print()\n",
    "\n",
    "# 根据Group的定义，将频繁项集组合成Group\n",
    "\n",
    "from dblp import DBLPAuthorPaper, DBLPGroup\n",
    "\n",
    "author_group = DBLPAuthorPaper(dataset)\n",
    "group = DBLPGroup(fp_growth.items, author_group)\n",
    "print(len(group.groups))"
   ]
  },
  {
   "cell_type": "code",
   "execution_count": 8,
   "metadata": {
    "collapsed": true
   },
   "outputs": [],
   "source": [
    "# LDA模型训练，主题数为30\n",
    "\n",
    "from dblp import DBLP\n",
    "from lda import LdaModel\n",
    "\n",
    "TOPIC_NUM = 30\n",
    "\n",
    "dataset = DBLP('./dataset/FilteredDBLP.txt')\n",
    "topic_model = LdaModel()\n",
    "topic_model.fit(dataset.get_title_list(), num_topics=TOPIC_NUM)"
   ]
  },
  {
   "cell_type": "code",
   "execution_count": 9,
   "metadata": {
    "scrolled": true
   },
   "outputs": [
    {
     "data": {
      "text/plain": [
       "[(0,\n",
       "  '0.092*\"plan\" + 0.072*\"constraint\" + 0.059*\"game\" + 0.056*\"agent\" + 0.053*\"multi\" + 0.031*\"class\" + 0.028*\"new\" + 0.025*\"strategi\" + 0.023*\"gener\" + 0.020*\"complex\"'),\n",
       " (1,\n",
       "  '0.078*\"adapt\" + 0.068*\"label\" + 0.060*\"domain\" + 0.055*\"recommend\" + 0.039*\"filter\" + 0.038*\"high\" + 0.037*\"context\" + 0.037*\"multi\" + 0.031*\"awar\" + 0.030*\"dimension\"'),\n",
       " (2,\n",
       "  '0.093*\"learn\" + 0.065*\"supervis\" + 0.056*\"scene\" + 0.054*\"view\" + 0.048*\"discrimin\" + 0.043*\"languag\" + 0.042*\"reconstruct\" + 0.041*\"machin\" + 0.039*\"semi\" + 0.029*\"stereo\"'),\n",
       " (3,\n",
       "  '0.072*\"person\" + 0.069*\"camera\" + 0.068*\"toward\" + 0.031*\"attent\" + 0.028*\"model\" + 0.027*\"fusion\" + 0.026*\"base\" + 0.024*\"part\" + 0.024*\"feedback\" + 0.024*\"qualiti\"'),\n",
       " (4,\n",
       "  '0.156*\"featur\" + 0.078*\"select\" + 0.050*\"embed\" + 0.042*\"base\" + 0.037*\"similar\" + 0.034*\"sequenc\" + 0.031*\"argument\" + 0.029*\"boost\" + 0.027*\"stream\" + 0.024*\"rate\"'),\n",
       " (5,\n",
       "  '0.228*\"network\" + 0.091*\"neural\" + 0.049*\"social\" + 0.046*\"convolut\" + 0.039*\"set\" + 0.028*\"partial\" + 0.027*\"group\" + 0.020*\"use\" + 0.018*\"recurr\" + 0.018*\"observ\"'),\n",
       " (6,\n",
       "  '0.094*\"problem\" + 0.057*\"sampl\" + 0.044*\"mine\" + 0.042*\"solv\" + 0.041*\"pattern\" + 0.027*\"direct\" + 0.025*\"deform\" + 0.024*\"search\" + 0.024*\"algorithm\" + 0.024*\"goal\"'),\n",
       " (7,\n",
       "  '0.097*\"scale\" + 0.097*\"larg\" + 0.074*\"linear\" + 0.058*\"evalu\" + 0.040*\"integr\" + 0.036*\"scalabl\" + 0.031*\"non\" + 0.025*\"test\" + 0.023*\"polici\" + 0.020*\"divers\"'),\n",
       " (8,\n",
       "  '0.184*\"detect\" + 0.128*\"object\" + 0.080*\"time\" + 0.049*\"real\" + 0.034*\"statist\" + 0.024*\"use\" + 0.020*\"re\" + 0.020*\"ground\" + 0.019*\"adversari\" + 0.016*\"world\"'),\n",
       " (9,\n",
       "  '0.051*\"extract\" + 0.049*\"event\" + 0.045*\"word\" + 0.039*\"model\" + 0.037*\"exploit\" + 0.036*\"discoveri\" + 0.027*\"correspond\" + 0.025*\"relev\" + 0.024*\"appear\" + 0.024*\"beyond\"'),\n",
       " (10,\n",
       "  '0.099*\"kernel\" + 0.068*\"tree\" + 0.054*\"resolut\" + 0.050*\"effect\" + 0.032*\"support\" + 0.029*\"autom\" + 0.022*\"vector\" + 0.021*\"use\" + 0.020*\"carlo\" + 0.020*\"mont\"'),\n",
       " (11,\n",
       "  '0.071*\"queri\" + 0.061*\"distribut\" + 0.046*\"map\" + 0.043*\"prefer\" + 0.039*\"rule\" + 0.038*\"data\" + 0.033*\"constrain\" + 0.030*\"driven\" + 0.029*\"analysi\" + 0.027*\"complet\"'),\n",
       " (12,\n",
       "  '0.278*\"learn\" + 0.073*\"deep\" + 0.041*\"represent\" + 0.040*\"activ\" + 0.029*\"random\" + 0.027*\"process\" + 0.027*\"task\" + 0.024*\"multi\" + 0.023*\"transfer\" + 0.022*\"model\"'),\n",
       " (13,\n",
       "  '0.089*\"logic\" + 0.080*\"knowledg\" + 0.063*\"tempor\" + 0.056*\"reason\" + 0.039*\"base\" + 0.039*\"descript\" + 0.034*\"order\" + 0.032*\"ontolog\" + 0.024*\"s\" + 0.023*\"program\"'),\n",
       " (14,\n",
       "  '0.040*\"preserv\" + 0.037*\"correl\" + 0.033*\"heurist\" + 0.028*\"manag\" + 0.028*\"count\" + 0.021*\"symmetri\" + 0.021*\"simpl\" + 0.020*\"search\" + 0.019*\"privaci\" + 0.018*\"cooper\"'),\n",
       " (15,\n",
       "  '0.089*\"cluster\" + 0.049*\"function\" + 0.040*\"align\" + 0.038*\"minim\" + 0.036*\"latent\" + 0.035*\"express\" + 0.032*\"consist\" + 0.030*\"decomposit\" + 0.027*\"model\" + 0.026*\"aggreg\"'),\n",
       " (16,\n",
       "  '0.119*\"inform\" + 0.052*\"text\" + 0.052*\"web\" + 0.039*\"level\" + 0.031*\"document\" + 0.030*\"variat\" + 0.026*\"automat\" + 0.026*\"theoret\" + 0.024*\"use\" + 0.022*\"entiti\"'),\n",
       " (17,\n",
       "  '0.135*\"recognit\" + 0.082*\"3d\" + 0.068*\"action\" + 0.061*\"face\" + 0.054*\"improv\" + 0.040*\"use\" + 0.038*\"space\" + 0.025*\"train\" + 0.025*\"prior\" + 0.022*\"model\"'),\n",
       " (18,\n",
       "  '0.067*\"dynam\" + 0.058*\"human\" + 0.052*\"interact\" + 0.045*\"decis\" + 0.038*\"robot\" + 0.034*\"system\" + 0.028*\"behavior\" + 0.027*\"user\" + 0.026*\"model\" + 0.023*\"predict\"'),\n",
       " (19,\n",
       "  '0.098*\"robust\" + 0.070*\"shape\" + 0.068*\"motion\" + 0.048*\"probabilist\" + 0.029*\"extend\" + 0.021*\"sens\" + 0.020*\"compress\" + 0.019*\"fine\" + 0.018*\"estim\" + 0.018*\"sat\"'),\n",
       " (20,\n",
       "  '0.061*\"estim\" + 0.060*\"infer\" + 0.056*\"model\" + 0.042*\"hierarch\" + 0.038*\"pose\" + 0.038*\"relat\" + 0.036*\"stochast\" + 0.035*\"point\" + 0.030*\"belief\" + 0.028*\"joint\"'),\n",
       " (21,\n",
       "  '0.241*\"imag\" + 0.058*\"spars\" + 0.039*\"regress\" + 0.039*\"classif\" + 0.028*\"spatial\" + 0.027*\"use\" + 0.027*\"code\" + 0.023*\"bayesian\" + 0.022*\"self\" + 0.021*\"local\"'),\n",
       " (22,\n",
       "  '0.085*\"match\" + 0.077*\"comput\" + 0.050*\"global\" + 0.047*\"answer\" + 0.037*\"combin\" + 0.036*\"identif\" + 0.033*\"commun\" + 0.033*\"environ\" + 0.030*\"vision\" + 0.024*\"transform\"'),\n",
       " (23,\n",
       "  '0.145*\"segment\" + 0.104*\"fast\" + 0.037*\"continu\" + 0.030*\"sequenti\" + 0.030*\"crowd\" + 0.029*\"vote\" + 0.027*\"specif\" + 0.026*\"ensembl\" + 0.021*\"manipul\" + 0.020*\"peopl\"'),\n",
       " (24,\n",
       "  '0.144*\"video\" + 0.103*\"onlin\" + 0.071*\"retriev\" + 0.040*\"hash\" + 0.039*\"depth\" + 0.033*\"cross\" + 0.029*\"modal\" + 0.024*\"binari\" + 0.017*\"dataset\" + 0.015*\"analysi\"'),\n",
       " (25,\n",
       "  '0.071*\"factor\" + 0.070*\"matrix\" + 0.064*\"singl\" + 0.050*\"weight\" + 0.030*\"time\" + 0.029*\"one\" + 0.027*\"norm\" + 0.021*\"seri\" + 0.021*\"2d\" + 0.019*\"revis\"'),\n",
       " (26,\n",
       "  '0.107*\"graph\" + 0.083*\"rank\" + 0.046*\"regular\" + 0.038*\"low\" + 0.033*\"bound\" + 0.032*\"project\" + 0.030*\"tensor\" + 0.025*\"studi\" + 0.023*\"bandit\" + 0.023*\"base\"'),\n",
       " (27,\n",
       "  '0.070*\"framework\" + 0.069*\"abstract\" + 0.053*\"program\" + 0.037*\"valu\" + 0.035*\"control\" + 0.032*\"iter\" + 0.029*\"invari\" + 0.029*\"attribut\" + 0.023*\"base\" + 0.023*\"unifi\"'),\n",
       " (28,\n",
       "  '0.051*\"metric\" + 0.047*\"design\" + 0.047*\"condit\" + 0.041*\"distanc\" + 0.037*\"convex\" + 0.036*\"mechan\" + 0.028*\"line\" + 0.026*\"composit\" + 0.023*\"two\" + 0.023*\"perspect\"'),\n",
       " (29,\n",
       "  '0.095*\"visual\" + 0.090*\"track\" + 0.072*\"multipl\" + 0.034*\"object\" + 0.033*\"model\" + 0.029*\"instanc\" + 0.029*\"explor\" + 0.025*\"use\" + 0.023*\"region\" + 0.023*\"topic\"')]"
      ]
     },
     "execution_count": 9,
     "metadata": {},
     "output_type": "execute_result"
    }
   ],
   "source": [
    "# 所有的主题\n",
    "\n",
    "topic_model.model.print_topics(TOPIC_NUM)"
   ]
  },
  {
   "cell_type": "code",
   "execution_count": 13,
   "metadata": {
    "collapsed": true
   },
   "outputs": [],
   "source": [
    "# 尝试预测一个标题\n",
    "\n",
    "result = topic_model.predict('Understanding Behaviors that Lead to Purchasing: A Case Study of Pinterest.')"
   ]
  },
  {
   "cell_type": "code",
   "execution_count": 14,
   "metadata": {
    "scrolled": true
   },
   "outputs": [
    {
     "name": "stdout",
     "output_type": "stream",
     "text": [
      "[(2, 0.12916666), (9, 0.12916668), (14, 0.12916666), (18, 0.12916666), (26, 0.37916666)]\n"
     ]
    },
    {
     "data": {
      "text/plain": [
       "['0.093*\"learn\" + 0.065*\"supervis\" + 0.056*\"scene\" + 0.054*\"view\" + 0.048*\"discrimin\" + 0.043*\"languag\" + 0.042*\"reconstruct\" + 0.041*\"machin\" + 0.039*\"semi\" + 0.029*\"stereo\"',\n",
       " '0.051*\"extract\" + 0.049*\"event\" + 0.045*\"word\" + 0.039*\"model\" + 0.037*\"exploit\" + 0.036*\"discoveri\" + 0.027*\"correspond\" + 0.025*\"relev\" + 0.024*\"appear\" + 0.024*\"beyond\"',\n",
       " '0.040*\"preserv\" + 0.037*\"correl\" + 0.033*\"heurist\" + 0.028*\"manag\" + 0.028*\"count\" + 0.021*\"symmetri\" + 0.021*\"simpl\" + 0.020*\"search\" + 0.019*\"privaci\" + 0.018*\"cooper\"',\n",
       " '0.067*\"dynam\" + 0.058*\"human\" + 0.052*\"interact\" + 0.045*\"decis\" + 0.038*\"robot\" + 0.034*\"system\" + 0.028*\"behavior\" + 0.027*\"user\" + 0.026*\"model\" + 0.023*\"predict\"',\n",
       " '0.107*\"graph\" + 0.083*\"rank\" + 0.046*\"regular\" + 0.038*\"low\" + 0.033*\"bound\" + 0.032*\"project\" + 0.030*\"tensor\" + 0.025*\"studi\" + 0.023*\"bandit\" + 0.023*\"base\"']"
      ]
     },
     "execution_count": 14,
     "metadata": {},
     "output_type": "execute_result"
    }
   ],
   "source": [
    "print(result.prob_list)\n",
    "result.topic_list"
   ]
  },
  {
   "cell_type": "code",
   "execution_count": 5,
   "metadata": {
    "collapsed": true
   },
   "outputs": [],
   "source": [
    "from dblp import DBLPAuthorPaper\n",
    "from fp_growth import FPGrowth\n",
    "\n",
    "fp_growth = FPGrowth()\n",
    "fp_growth.fit(dataset.get_author_group_list(), min_support=3, min_size=3)\n",
    "\n",
    "author_group = DBLPAuthorPaper(dataset)"
   ]
  },
  {
   "cell_type": "code",
   "execution_count": 16,
   "metadata": {
    "collapsed": true
   },
   "outputs": [],
   "source": [
    "# 统计团队发表的论文和论文涉及的主题\n",
    "\n",
    "group = DBLPGroup(fp_growth.items, author_group, topic_model)\n",
    "with open('result_1.txt', 'w', encoding='utf-8') as f:\n",
    "    for i in group.get_group_member():\n",
    "        f.write(str(i) + '\\n')\n",
    "with open('result_2.txt', 'w', encoding='utf-8') as f:\n",
    "    for i in group.groups:\n",
    "        f.write(str(i) + '\\n')"
   ]
  },
  {
   "cell_type": "code",
   "execution_count": null,
   "metadata": {
    "collapsed": true
   },
   "outputs": [],
   "source": [
    "# 按照2007-2012以及2013-2017两个时间段，分析两个时间段团队的相似度\n",
    "\n",
    "fp_growth = FPGrowth()\n",
    "fp_growth.fit(dataset.get_author_group_list(start_year=2007, end_year=2012), min_support=3, min_size=3)\n",
    "author_group = DBLPAuthorPaper(dataset, start_year=2007, end_year=2012)\n",
    "group = DBLPGroup(fp_growth.items, author_group, topic_model)\n",
    "\n",
    "fp_growth_1 = FPGrowth()\n",
    "fp_growth_1.fit(dataset.get_author_group_list(start_year=2013, end_year=2017), min_support=3, min_size=3)\n",
    "author_group_1 = DBLPAuthorPaper(dataset, start_year=2013, end_year=2017)\n",
    "group_1 = DBLPGroup(fp_growth_1.items, author_group_1, topic_model)\n",
    "\n",
    "for g in group.groups:\n",
    "    g_1, similarity = g.find_similar_group(group_1)\n",
    "    if g_1 is not None:\n",
    "        print(g)\n",
    "        print(g_1)\n",
    "        print('Similarity: ' + str(similarity))"
   ]
  }
 ],
 "metadata": {
  "kernelspec": {
   "display_name": "Python 3",
   "language": "python",
   "name": "python3"
  },
  "language_info": {
   "codemirror_mode": {
    "name": "ipython",
    "version": 3
   },
   "file_extension": ".py",
   "mimetype": "text/x-python",
   "name": "python",
   "nbconvert_exporter": "python",
   "pygments_lexer": "ipython3",
   "version": "3.6.3"
  }
 },
 "nbformat": 4,
 "nbformat_minor": 2
}
